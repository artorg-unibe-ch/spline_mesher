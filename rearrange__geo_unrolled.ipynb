{
 "cells": [
  {
   "cell_type": "code",
   "execution_count": 1,
   "metadata": {},
   "outputs": [],
   "source": [
    "from pathlib import Path"
   ]
  },
  {
   "cell_type": "code",
   "execution_count": 2,
   "metadata": {},
   "outputs": [],
   "source": [
    "# filename_s = Path(r'/home/simoneponcioni/Documents/01_PHD/03_Methods/Meshing/Meshing/99_testing_prototyping/C0002231_CORT_MASK_cap01_ext2.geo_unrolled')\n",
    "filename_s = Path(r'/home/simoneponcioni/Documents/01_PHD/03_Methods/Meshing/Meshing/99_testing_prototyping/C0002231_CORT_MASK_cap01_trab2.geo_unrolled')"
   ]
  },
  {
   "cell_type": "code",
   "execution_count": 3,
   "metadata": {},
   "outputs": [],
   "source": [
    "def sort_lines(filename):\n",
    "    with open(filename) as f:\n",
    "        return f.readlines()\n",
    "\n",
    "file = sort_lines(filename=filename_s)"
   ]
  },
  {
   "cell_type": "code",
   "execution_count": 4,
   "metadata": {},
   "outputs": [],
   "source": [
    "cl_s = [line for line in file if 'cl__1' in line]\n",
    "points = [line for line in file if 'Point' in line]\n",
    "lines = [line for line in file if 'Line' in line]\n",
    "CurveLoops = [line for line in file if 'Curve Loop' in line]\n",
    "Surfaces = [line for line in file if 'Surface' in line]\n",
    "PlaneSurfaces = [line for line in file if 'Plane Surface' in line]\n",
    "Volumes = [line for line in file if 'Volume' in line]\n",
    "\n",
    "rearranged_lst = ['SetFactory(\"OpenCASCADE\");\\n', cl_s, lines, CurveLoops, Surfaces, Volumes]"
   ]
  },
  {
   "cell_type": "code",
   "execution_count": 5,
   "metadata": {},
   "outputs": [],
   "source": [
    "with open(\"/home/simoneponcioni/Documents/01_PHD/03_Methods/Meshing/Meshing/99_testing_prototyping/C0002231_CORT_MASK_cap01_trab3.geo_unrolled\", \"w\") as outfile:\n",
    "    for entity in rearranged_lst:\n",
    "        for elem in entity:\n",
    "            outfile.write(elem)"
   ]
  },
  {
   "cell_type": "code",
   "execution_count": 6,
   "metadata": {},
   "outputs": [
    {
     "name": "stdout",
     "output_type": "stream",
     "text": [
      "C0002231_CORT_MASK_cap01_trab3_sort.geo_unrolled\n"
     ]
    }
   ],
   "source": [
    "str = '/home/simoneponcioni/Documents/01_PHD/03_Methods/Meshing/Meshing/99_testing_prototyping/C0002231_CORT_MASK_cap01_trab3.geo_unrolled'\n",
    "\n",
    "print(Path(str).stem + '_sort' + Path(str).suffix)"
   ]
  },
  {
   "cell_type": "code",
   "execution_count": null,
   "metadata": {},
   "outputs": [],
   "source": []
  }
 ],
 "metadata": {
  "kernelspec": {
   "display_name": "Python 3.9.7 ('testing')",
   "language": "python",
   "name": "python3"
  },
  "language_info": {
   "codemirror_mode": {
    "name": "ipython",
    "version": 3
   },
   "file_extension": ".py",
   "mimetype": "text/x-python",
   "name": "python",
   "nbconvert_exporter": "python",
   "pygments_lexer": "ipython3",
   "version": "3.9.7"
  },
  "orig_nbformat": 4,
  "vscode": {
   "interpreter": {
    "hash": "e58a9742f16ddbf8ecfb0540e95b335c2058f4c3941a5c01c45b4e70f483df6f"
   }
  }
 },
 "nbformat": 4,
 "nbformat_minor": 2
}
