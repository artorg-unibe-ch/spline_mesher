{
 "cells": [
  {
   "cell_type": "code",
   "execution_count": 21,
   "metadata": {},
   "outputs": [],
   "source": [
    "from pathlib import Path\n",
    "import re"
   ]
  },
  {
   "cell_type": "code",
   "execution_count": 22,
   "metadata": {},
   "outputs": [],
   "source": [
    "filename_s = Path(r'/home/simoneponcioni/Documents/01_PHD/03_Methods/Meshing/Meshing/99_testing_prototyping/C0002231_CORT_MASK_cap01_int2.geo_unrolled')\n",
    "# filename_s = Path(r\"/home/simoneponcioni/Documents/01_PHD/03_Methods/Meshing/Meshing/99_testing_prototyping/C0002231_CORT_MASK_cap01_ext2_sort_fullmodel.geo_unrolled\")"
   ]
  },
  {
   "cell_type": "code",
   "execution_count": 23,
   "metadata": {},
   "outputs": [],
   "source": [
    "def sort_lines(filename):\n",
    "    with open(filename) as f:\n",
    "        return f.readlines()\n",
    "\n",
    "file = sort_lines(filename=filename_s)"
   ]
  },
  {
   "cell_type": "code",
   "execution_count": 24,
   "metadata": {},
   "outputs": [],
   "source": [
    "cl_s = [line for line in file if 'cl__1' in line]\n",
    "points = [line for line in file if 'Point' in line]\n",
    "lines = [line for line in file if 'Line' in line]\n",
    "CurveLoops = [line for line in file if re.search(r'\\bCurve Loop\\b', line)]\n",
    "Surfaces = [line for line in file if 'Surface' in line]\n",
    "PlaneSurfaces = [line for line in file if re.search(r'\\bPlane Surface\\b', line)]\n",
    "SurfaceLoops = [line for line in file if re.search(r'\\bSurface Loop\\b', line)]\n",
    "Volumes = [line for line in file if 'Volume' in line]\n",
    "# bool_gmsh = [f'BooleanDifference{{ Volume{{{Volumes[0].split(\"(\")[1].split(\")\")[0]}}}; Delete;}}{{ Volume{{{Volumes[1].split(\"(\")[1].split(\")\")[0]}}}; Delete;}}']\n",
    "\n",
    "rearranged_lst = ['SetFactory(\"OpenCASCADE\");\\n', cl_s, lines, CurveLoops, Surfaces, PlaneSurfaces, SurfaceLoops, Volumes, bool_gmsh]\n"
   ]
  },
  {
   "cell_type": "code",
   "execution_count": 25,
   "metadata": {},
   "outputs": [],
   "source": [
    "with open(\"/home/simoneponcioni/Documents/01_PHD/03_Methods/Meshing/Meshing/99_testing_prototyping/C0002231_CORT_MASK_cap01_int2_sort.geo_unrolled\", \"w\") as outfile:\n",
    "    for entity in rearranged_lst:\n",
    "        for elem in entity:\n",
    "            outfile.write(elem)"
   ]
  },
  {
   "cell_type": "code",
   "execution_count": null,
   "metadata": {},
   "outputs": [],
   "source": []
  }
 ],
 "metadata": {
  "kernelspec": {
   "display_name": "Python 3.9.7 ('testing')",
   "language": "python",
   "name": "python3"
  },
  "language_info": {
   "codemirror_mode": {
    "name": "ipython",
    "version": 3
   },
   "file_extension": ".py",
   "mimetype": "text/x-python",
   "name": "python",
   "nbconvert_exporter": "python",
   "pygments_lexer": "ipython3",
   "version": "3.9.7"
  },
  "orig_nbformat": 4,
  "vscode": {
   "interpreter": {
    "hash": "e58a9742f16ddbf8ecfb0540e95b335c2058f4c3941a5c01c45b4e70f483df6f"
   }
  }
 },
 "nbformat": 4,
 "nbformat_minor": 2
}
