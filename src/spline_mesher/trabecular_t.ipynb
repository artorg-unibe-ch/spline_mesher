{
 "cells": [
  {
   "cell_type": "code",
   "execution_count": 1,
   "metadata": {},
   "outputs": [],
   "source": [
    "import os\n",
    "import numpy as np\n",
    "from gmsh_mesh_builder import Mesher\n",
    "import gmsh  # ! remember to remove this line\n",
    "\n",
    "cwd = os.getcwd()\n",
    "geo_file_path = f\"{cwd}/04_OUTPUT/C0002237/fake_example.geo_unrolled\"\n",
    "mesh_file_path = f\"{cwd}/04_OUTPUT/C0002237/C0002237.msh\"\n",
    "idx_cort_int_path = \"/home/simoneponcioni/Documents/01_PHD/03_Methods/Meshing/Meshing/04_OUTPUT/C0002237/C0002237_intersections_int.npy\"\n",
    "coi_idx = np.load(idx_cort_int_path)\n",
    "trabecular_volume = Mesher(geo_file_path, mesh_file_path, slicing_coefficient=6)"
   ]
  },
  {
   "cell_type": "code",
   "execution_count": 3,
   "metadata": {},
   "outputs": [
    {
     "name": "stdout",
     "output_type": "stream",
     "text": [
      "Info    : Clearing all models and views...\n",
      "Info    : Done clearing all models and views\n",
      "[ 1  2  3  4  5  6  7  8  9 10 11 12 13 14 15 16 17 18 19 20 21 22 23 24]\n",
      "[25, 26, 27, 28, 29]\n"
     ]
    },
    {
     "name": "stderr",
     "output_type": "stream",
     "text": [
      "Warning : Gmsh has aleady been initialized\n",
      "Error   : Curve loop is not closed\n"
     ]
    },
    {
     "ename": "Exception",
     "evalue": "Curve loop is not closed",
     "output_type": "error",
     "traceback": [
      "\u001b[0;31m---------------------------------------------------------------------------\u001b[0m",
      "\u001b[0;31mException\u001b[0m                                 Traceback (most recent call last)",
      "\u001b[0;32m/tmp/ipykernel_64506/4281709947.py\u001b[0m in \u001b[0;36m<module>\u001b[0;34m\u001b[0m\n\u001b[1;32m     79\u001b[0m \u001b[0;34m\u001b[0m\u001b[0m\n\u001b[1;32m     80\u001b[0m \u001b[0;34m\u001b[0m\u001b[0m\n\u001b[0;32m---> 81\u001b[0;31m \u001b[0mtrabecular_mesh\u001b[0m\u001b[0;34m(\u001b[0m\u001b[0;34m)\u001b[0m\u001b[0;34m\u001b[0m\u001b[0;34m\u001b[0m\u001b[0m\n\u001b[0m",
      "\u001b[0;32m/tmp/ipykernel_64506/4281709947.py\u001b[0m in \u001b[0;36mtrabecular_mesh\u001b[0;34m()\u001b[0m\n\u001b[1;32m     70\u001b[0m     \u001b[0;32mfor\u001b[0m \u001b[0mj\u001b[0m \u001b[0;32min\u001b[0m \u001b[0mrange\u001b[0m\u001b[0;34m(\u001b[0m\u001b[0mlen\u001b[0m\u001b[0;34m(\u001b[0m\u001b[0mline_tags_v\u001b[0m\u001b[0;34m)\u001b[0m\u001b[0;34m)\u001b[0m\u001b[0;34m:\u001b[0m\u001b[0;34m\u001b[0m\u001b[0;34m\u001b[0m\u001b[0m\n\u001b[1;32m     71\u001b[0m         \u001b[0mprint\u001b[0m\u001b[0;34m(\u001b[0m\u001b[0mline_tags_v\u001b[0m\u001b[0;34m[\u001b[0m\u001b[0mj\u001b[0m\u001b[0;34m]\u001b[0m\u001b[0;34m)\u001b[0m\u001b[0;34m\u001b[0m\u001b[0;34m\u001b[0m\u001b[0m\n\u001b[0;32m---> 72\u001b[0;31m         \u001b[0mtrab_curveloop_v\u001b[0m \u001b[0;34m=\u001b[0m \u001b[0mtrabecular_volume\u001b[0m\u001b[0;34m.\u001b[0m\u001b[0mfactory\u001b[0m\u001b[0;34m.\u001b[0m\u001b[0maddCurveLoop\u001b[0m\u001b[0;34m(\u001b[0m\u001b[0mline_tags_v\u001b[0m\u001b[0;34m[\u001b[0m\u001b[0mj\u001b[0m\u001b[0;34m]\u001b[0m\u001b[0;34m,\u001b[0m \u001b[0mtag\u001b[0m\u001b[0;34m=\u001b[0m\u001b[0;34m-\u001b[0m\u001b[0;36m1\u001b[0m\u001b[0;34m)\u001b[0m\u001b[0;34m\u001b[0m\u001b[0;34m\u001b[0m\u001b[0m\n\u001b[0m\u001b[1;32m     73\u001b[0m         \u001b[0mtrab_tag_v\u001b[0m \u001b[0;34m=\u001b[0m \u001b[0mtrabecular_volume\u001b[0m\u001b[0;34m.\u001b[0m\u001b[0mfactory\u001b[0m\u001b[0;34m.\u001b[0m\u001b[0maddPlaneSurface\u001b[0m\u001b[0;34m(\u001b[0m\u001b[0;34m[\u001b[0m\u001b[0mtrab_curveloop_v\u001b[0m\u001b[0;34m]\u001b[0m\u001b[0;34m,\u001b[0m \u001b[0mtag\u001b[0m\u001b[0;34m=\u001b[0m\u001b[0;34m-\u001b[0m\u001b[0;36m1\u001b[0m\u001b[0;34m)\u001b[0m\u001b[0;34m\u001b[0m\u001b[0;34m\u001b[0m\u001b[0m\n\u001b[1;32m     74\u001b[0m         \u001b[0msurf_tags_v\u001b[0m\u001b[0;34m.\u001b[0m\u001b[0mappend\u001b[0m\u001b[0;34m(\u001b[0m\u001b[0mtrab_tag_v\u001b[0m\u001b[0;34m)\u001b[0m\u001b[0;34m\u001b[0m\u001b[0;34m\u001b[0m\u001b[0m\n",
      "\u001b[0;32m~/anaconda3/envs/testing/lib/python3.9/site-packages/gmsh.py\u001b[0m in \u001b[0;36maddCurveLoop\u001b[0;34m(curveTags, tag)\u001b[0m\n\u001b[1;32m   5634\u001b[0m                 byref(ierr))\n\u001b[1;32m   5635\u001b[0m             \u001b[0;32mif\u001b[0m \u001b[0mierr\u001b[0m\u001b[0;34m.\u001b[0m\u001b[0mvalue\u001b[0m \u001b[0;34m!=\u001b[0m \u001b[0;36m0\u001b[0m\u001b[0;34m:\u001b[0m\u001b[0;34m\u001b[0m\u001b[0;34m\u001b[0m\u001b[0m\n\u001b[0;32m-> 5636\u001b[0;31m                 \u001b[0;32mraise\u001b[0m \u001b[0mException\u001b[0m\u001b[0;34m(\u001b[0m\u001b[0mlogger\u001b[0m\u001b[0;34m.\u001b[0m\u001b[0mgetLastError\u001b[0m\u001b[0;34m(\u001b[0m\u001b[0;34m)\u001b[0m\u001b[0;34m)\u001b[0m\u001b[0;34m\u001b[0m\u001b[0;34m\u001b[0m\u001b[0m\n\u001b[0m\u001b[1;32m   5637\u001b[0m             \u001b[0;32mreturn\u001b[0m \u001b[0mapi_result_\u001b[0m\u001b[0;34m\u001b[0m\u001b[0;34m\u001b[0m\u001b[0m\n\u001b[1;32m   5638\u001b[0m         \u001b[0madd_curve_loop\u001b[0m \u001b[0;34m=\u001b[0m \u001b[0maddCurveLoop\u001b[0m\u001b[0;34m\u001b[0m\u001b[0;34m\u001b[0m\u001b[0m\n",
      "\u001b[0;31mException\u001b[0m: Curve loop is not closed"
     ]
    }
   ],
   "source": [
    "def principal_axes_length(array):\n",
    "    l_i = np.linalg.norm(array[0] - array[1])\n",
    "    l_j = np.linalg.norm(array[0] - array[2])\n",
    "    return l_i, l_j\n",
    "\n",
    "def get_offset_points(array, _center, l_i, l_j, LENGTH_FACTOR):\n",
    "    # calculate offset point from _center and 0.6 * half of the principal axes length\n",
    "    OFFSET = LENGTH_FACTOR\n",
    "    offset_i = [OFFSET * l_i / 2, 0, 0]\n",
    "    offset_j = [OFFSET * 0, l_j / 2, 0]\n",
    "    \n",
    "    # replace the offset point in the array\n",
    "    array[0] = np.array(_center) + np.array(offset_i)\n",
    "    array[1] = np.array(_center) - np.array(offset_i)\n",
    "    array[2] = np.array(_center) + np.array(offset_j)\n",
    "    array[3] = np.array(_center) - np.array(offset_j)\n",
    "    return array\n",
    "\n",
    "def get_trabecular_position(coi_idx, LENGTH_FACTOR):\n",
    "    coi_idx_r = np.reshape(coi_idx, (-1, 3))\n",
    "    # create subarrays of the coi_idx array for each slice (coi_idx[:, 2])\n",
    "    coi_idx_every_4_points = np.split(coi_idx_r, np.where(np.diff(coi_idx_r[:, 2]))[0]+1)\n",
    "\n",
    "    # iterate over the subarrays and calculate the principal axes length\n",
    "    trabecular_points = np.empty((len(coi_idx_every_4_points), 4, 3))\n",
    "    for i, _ in enumerate(coi_idx_every_4_points):\n",
    "        c_x = coi_idx_every_4_points[i][:, 0]\n",
    "        c_y = coi_idx_every_4_points[i][:, 1]\n",
    "        c_z = coi_idx_every_4_points[i][:, 2]\n",
    "        _center = [np.mean(c_x), np.mean(c_y), np.mean(c_z)]\n",
    "\n",
    "        # calculate the principal axes length\n",
    "        l_i, l_j = principal_axes_length(coi_idx_every_4_points[i])\n",
    "        trabecular_points[i] = get_offset_points(coi_idx_every_4_points[i], _center, l_i, l_j, LENGTH_FACTOR)\n",
    "        \n",
    "        # sort points in cw direction\n",
    "        trabecular_points[i] = trabecular_points[i][[0, 2, 1, 3]]  # 1 3 2 4\n",
    "\n",
    "    return np.array(trabecular_points, dtype=np.float32).reshape((-1, 3))\n",
    "\n",
    "def trabecular_mesh():\n",
    "    gmsh.initialize()  # ! remember to remove this line\n",
    "    gmsh.clear()  # ! remember to remove this line\n",
    "    trabecular_points = get_trabecular_position(coi_idx, 0.6)\n",
    "    point_tags = trabecular_volume.insert_points(trabecular_points)\n",
    "    print(point_tags)\n",
    "    point_tags_r = np.reshape(point_tags, (-1, 4))\n",
    "    # concatenate first point to the end of each subarray\n",
    "    \n",
    "    points_first_column = point_tags_r[:, 0]\n",
    "    point_tags_c = np.concatenate((point_tags_r, points_first_column[:, None]), axis=1)\n",
    "\n",
    "    line_tags_h = []\n",
    "    for i in range(len(point_tags_c[:, 0])):\n",
    "        line_tags_s = trabecular_volume.insert_lines(point_tags_c[i])\n",
    "        line_tags_h.append(line_tags_s)\n",
    "    \n",
    "    surf_tags_h = []\n",
    "    for i, _ in enumerate(line_tags_h):\n",
    "        trab_curveloop_h = trabecular_volume.factory.addCurveLoop(line_tags_h[i], tag=-1)\n",
    "        trab_tag_h = trabecular_volume.factory.addPlaneSurface([trab_curveloop_h], tag=-1)\n",
    "        surf_tags_h.append(trab_tag_h)\n",
    "    \n",
    "    line_tags_v = []\n",
    "    for j in range(len(point_tags_c[0, :])):\n",
    "        line_tags_s = trabecular_volume.insert_lines(point_tags_c[:, j])\n",
    "        line_tags_v.append(line_tags_s)\n",
    "        \n",
    "    surf_tags_v = []\n",
    "    for j in range(len(line_tags_v)):\n",
    "        # connect i + i+1 etc\n",
    "        \n",
    "\n",
    "    trabecular_volume.factory.synchronize()\n",
    "    gmsh.fltk.run()\n",
    "    gmsh.finalize()\n",
    "\n",
    "\n",
    "trabecular_mesh()\n"
   ]
  },
  {
   "cell_type": "code",
   "execution_count": null,
   "metadata": {},
   "outputs": [],
   "source": []
  }
 ],
 "metadata": {
  "kernelspec": {
   "display_name": "testing",
   "language": "python",
   "name": "python3"
  },
  "language_info": {
   "codemirror_mode": {
    "name": "ipython",
    "version": 3
   },
   "file_extension": ".py",
   "mimetype": "text/x-python",
   "name": "python",
   "nbconvert_exporter": "python",
   "pygments_lexer": "ipython3",
   "version": "3.9.7"
  },
  "orig_nbformat": 4,
  "vscode": {
   "interpreter": {
    "hash": "e58a9742f16ddbf8ecfb0540e95b335c2058f4c3941a5c01c45b4e70f483df6f"
   }
  }
 },
 "nbformat": 4,
 "nbformat_minor": 2
}
