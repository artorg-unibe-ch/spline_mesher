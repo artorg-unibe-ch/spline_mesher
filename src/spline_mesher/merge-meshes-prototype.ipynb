{
 "cells": [
  {
   "attachments": {},
   "cell_type": "markdown",
   "metadata": {},
   "source": [
    "https://www.pygimli.org/pygimliapi/_generated/pygimli.meshtools.html#pygimli.meshtools.merge2Meshes\n",
    "\n",
    "https://www.pygimli.org/gimliapi/classGIMLI_1_1Mesh.html\n",
    "\n",
    "http://geuz.org/pipermail/gmsh/2020/013645.html\n",
    "\n",
    "https://gitlab.onelab.info/gmsh/gmsh/-/issues/983"
   ]
  },
  {
   "cell_type": "code",
   "execution_count": 2,
   "metadata": {},
   "outputs": [],
   "source": [
    "import gmsh\n",
    "exportname = r'/Users/msb/Desktop/stitch-meshes-tests/merged_mesh_2.msh'"
   ]
  },
  {
   "cell_type": "code",
   "execution_count": 3,
   "metadata": {},
   "outputs": [],
   "source": [
    "outer_mesh_path = r'/Users/msb/Desktop/stitch-meshes-tests/outer_box.msh'\n",
    "inner_mesh_path = r'/Users/msb/Desktop/stitch-meshes-tests/inner_box.msh'"
   ]
  },
  {
   "cell_type": "code",
   "execution_count": 4,
   "metadata": {},
   "outputs": [
    {
     "name": "stdout",
     "output_type": "stream",
     "text": [
      "Info    : Increasing process stack size (8176 kB < 16 MB)\n",
      "Info    : Reading '/Users/msb/Desktop/stitch-meshes-tests/outer_box.msh'...\n",
      "Info    : 72 entities\n",
      "Info    : 72 nodes\n",
      "Info    : 192 elements\n",
      "Info    : Done reading '/Users/msb/Desktop/stitch-meshes-tests/outer_box.msh'\n",
      "Info    : Reading '/Users/msb/Desktop/stitch-meshes-tests/inner_box.msh'...\n",
      "Info    : 27 entities\n",
      "Info    : 27 nodes\n",
      "Info    : 64 elements\n",
      "Info    : Skipping duplicate element 1\n",
      "Info    : Skipping duplicate element 2\n",
      "Info    : Skipping duplicate element 3\n",
      "Info    : Skipping duplicate element 4\n",
      "Info    : Skipping duplicate element 5\n",
      "Info    : Skipping duplicate element 6\n",
      "Info    : Skipping duplicate element 7\n",
      "Info    : Skipping duplicate element 8\n",
      "Info    : Skipping duplicate element 9\n",
      "Info    : Skipping duplicate element 10\n",
      "Info    : Skipping duplicate element 11\n",
      "Info    : Skipping duplicate element 12\n",
      "Info    : Skipping duplicate element 13\n",
      "Info    : Skipping duplicate element 14\n",
      "Info    : Skipping duplicate element 15\n",
      "Info    : Skipping duplicate element 16\n",
      "Info    : Skipping duplicate element 17\n",
      "Info    : Skipping duplicate element 18\n",
      "Info    : Skipping duplicate element 19\n",
      "Info    : Skipping duplicate element 20\n",
      "Info    : Skipping duplicate element 21\n",
      "Info    : Skipping duplicate element 22\n",
      "Info    : Skipping duplicate element 23\n",
      "Info    : Skipping duplicate element 24\n",
      "Info    : Skipping duplicate element 25\n",
      "Info    : Skipping duplicate element 26\n",
      "Info    : Skipping duplicate element 27\n",
      "Info    : Skipping duplicate element 28\n",
      "Info    : Skipping duplicate element 29\n",
      "Info    : Skipping duplicate element 30\n",
      "Info    : Skipping duplicate element 31\n",
      "Info    : Skipping duplicate element 32\n",
      "Info    : Skipping duplicate element 33\n",
      "Info    : Skipping duplicate element 34\n",
      "Info    : Skipping duplicate element 35\n",
      "Info    : Skipping duplicate element 36\n",
      "Info    : Skipping duplicate element 37\n",
      "Info    : Skipping duplicate element 38\n",
      "Info    : Skipping duplicate element 39\n",
      "Info    : Skipping duplicate element 40\n",
      "Info    : Skipping duplicate element 41\n",
      "Info    : Skipping duplicate element 42\n",
      "Info    : Skipping duplicate element 43\n",
      "Info    : Skipping duplicate element 44\n",
      "Info    : Skipping duplicate element 45\n",
      "Info    : Skipping duplicate element 46\n",
      "Info    : Skipping duplicate element 47\n",
      "Info    : Skipping duplicate element 48\n",
      "Info    : Skipping duplicate element 49\n",
      "Info    : Skipping duplicate element 50\n",
      "Info    : Skipping duplicate element 51\n",
      "Info    : Skipping duplicate element 52\n",
      "Info    : Skipping duplicate element 53\n",
      "Info    : Skipping duplicate element 54\n",
      "Info    : Skipping duplicate element 55\n",
      "Info    : Skipping duplicate element 56\n",
      "Info    : Skipping duplicate element 57\n",
      "Info    : Skipping duplicate element 58\n",
      "Info    : Skipping duplicate element 59\n",
      "Info    : Skipping duplicate element 60\n",
      "Info    : Skipping duplicate element 61\n",
      "Info    : Skipping duplicate element 62\n",
      "Info    : Skipping duplicate element 63\n",
      "Info    : Skipping duplicate element 64\n",
      "Info    : Done reading '/Users/msb/Desktop/stitch-meshes-tests/inner_box.msh'\n",
      "Info    : Removing duplicate mesh nodes...\n",
      "Info    : Found 24 duplicate nodes \n",
      "Info    : Removed 24 duplicate mesh nodes\n",
      "Info    : Done removing duplicate mesh nodes\n",
      "-------------------------------------------------------\n",
      "Version       : 4.11.1\n",
      "License       : GNU General Public License\n",
      "Build OS      : MacOSX-sdk\n",
      "Build date    : 20221221\n",
      "Build host    : gmsh.info\n",
      "Build options : 64Bit ALGLIB[contrib] ANN[contrib] Bamg Blas[petsc] Blossom Cgns DIntegration Dlopen DomHex Eigen[contrib] Fltk GMP Gmm[contrib] Hxt Jpeg Kbipack Lapack[petsc] MathEx[contrib] Med Mesh Metis[contrib] Mmg Mpeg Netgen ONELAB ONELABMetamodel OpenCASCADE OpenCASCADE-CAF OpenGL OpenMP OptHom PETSc Parser Plugins Png Post QuadMeshingTools QuadTri Solver TetGen/BR TouchBar Voro++[contrib] WinslowUntangler Zlib\n",
      "FLTK version  : 1.4.0\n",
      "PETSc version : 3.15.0 (real arithmtic)\n",
      "OCC version   : 7.6.1\n",
      "MED version   : 4.1.0\n",
      "Packaged by   : geuzaine\n",
      "Web site      : https://gmsh.info\n",
      "Issue tracker : https://gitlab.onelab.info/gmsh/gmsh/issues\n",
      "-------------------------------------------------------\n",
      "Info    : Writing '/Users/msb/Desktop/stitch-meshes-tests/merged_mesh_2.msh'...\n",
      "Info    : Done writing '/Users/msb/Desktop/stitch-meshes-tests/merged_mesh_2.msh'\n"
     ]
    }
   ],
   "source": [
    "gmsh.initialize()\n",
    "gmsh.merge(outer_mesh_path)\n",
    "gmsh.merge(inner_mesh_path)\n",
    "gmsh.model.mesh.removeDuplicateNodes()\n",
    "gmsh.model.occ.synchronize()\n",
    "gmsh.fltk.run()\n",
    "gmsh.model.mesh()\n",
    "gmsh.write(exportname)"
   ]
  }
 ],
 "metadata": {
  "kernelspec": {
   "display_name": "meshing",
   "language": "python",
   "name": "python3"
  },
  "language_info": {
   "codemirror_mode": {
    "name": "ipython",
    "version": 3
   },
   "file_extension": ".py",
   "mimetype": "text/x-python",
   "name": "python",
   "nbconvert_exporter": "python",
   "pygments_lexer": "ipython3",
   "version": "3.11.3"
  },
  "orig_nbformat": 4
 },
 "nbformat": 4,
 "nbformat_minor": 2
}
