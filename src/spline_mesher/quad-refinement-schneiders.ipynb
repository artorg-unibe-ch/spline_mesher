{
 "cells": [
  {
   "attachments": {},
   "cell_type": "markdown",
   "metadata": {},
   "source": [
    "### Refining quadrilateral and hexahedral element meshes\n",
    "https://gitlab.onelab.info/gmsh/gmsh/-/issues/1381"
   ]
  },
  {
   "cell_type": "code",
   "execution_count": 12,
   "metadata": {},
   "outputs": [],
   "source": [
    "import gmsh\n",
    "import numpy as np\n",
    "\n",
    "\n",
    "def get_square_points(square):\n",
    "    _, adjancecies_down = gmsh.model.getAdjacencies(DIM, square)\n",
    "    _, pt_tags_adj_down = gmsh.model.getAdjacencies(DIM - 1, adjancecies_down[2])\n",
    "    return pt_tags_adj_down\n",
    "\n",
    "\n",
    "cl = 9\n",
    "cg = (0, 0)\n",
    "DIM = 2"
   ]
  },
  {
   "cell_type": "code",
   "execution_count": 21,
   "metadata": {},
   "outputs": [
    {
     "name": "stdout",
     "output_type": "stream",
     "text": [
      "-------------------------------------------------------\n",
      "Version       : 4.10.5\n",
      "License       : GNU General Public License\n",
      "Build OS      : Linux64-sdk\n",
      "Build date    : 20220701\n",
      "Build host    : gmsh.info\n",
      "Build options : 64Bit ALGLIB[contrib] ANN[contrib] Bamg Blas[petsc] Blossom Cgns DIntegration Dlopen DomHex Eigen[contrib] Fltk Gmm[contrib] Hxt Jpeg Kbipack Lapack[petsc] LinuxJoystick MathEx[contrib] Med Mesh Metis[contrib] Mmg Mpeg Netgen ONELAB ONELABMetamodel OpenCASCADE OpenCASCADE-CAF OpenGL OpenMP OptHom PETSc Parser Plugins Png Post QuadMeshingTools QuadTri Solver TetGen/BR Voro++[contrib] WinslowUntangler Zlib\n",
      "FLTK version  : 1.4.0\n",
      "PETSc version : 3.14.4 (real arithmtic)\n",
      "OCC version   : 7.6.1\n",
      "MED version   : 4.1.0\n",
      "Packaged by   : geuzaine\n",
      "Web site      : https://gmsh.info\n",
      "Issue tracker : https://gitlab.onelab.info/gmsh/gmsh/issues\n",
      "-------------------------------------------------------\n"
     ]
    }
   ],
   "source": [
    "# Create a mesh of a square\n",
    "gmsh.initialize()\n",
    "square_0 = gmsh.model.occ.addRectangle(cg[0] - cl/2, cg[1] - cl/2, 0, cl, cl)\n",
    "square_1 = gmsh.model.occ.addRectangle(cg[0] - cl/6, cg[1] - cl/6, 0, cl/3, cl/3)\n",
    "\n",
    "square_11 = gmsh.model.occ.addRectangle(cg[0] - cl/2, cg[1] - cl/2, 0, cl/3, cl/3)\n",
    "square_12 = gmsh.model.occ.addRectangle(cg[0] - cl/6, cg[1] - cl/2, 0, cl/3, cl/3)\n",
    "square_13 = gmsh.model.occ.addRectangle(cg[0] + cl/6, cg[1] - cl/2, 0, cl/3, cl/3)\n",
    "\n",
    "square_111 = gmsh.model.occ.addRectangle(cg[0] - cl/2, cg[1] - cl/2, 0, cl/9, cl/9)\n",
    "square_112 = gmsh.model.occ.addRectangle(cg[0] - 3.5 * cl/9, cg[1] - cl/2, 0, cl/9, cl/9) # this should be repeated\n",
    "square_113 = gmsh.model.occ.addRectangle(cg[0] - 2.5 * cl/9, cg[1] - cl/2, 0, cl/9, cl/9)\n",
    "\n",
    "square_211 = gmsh.model.occ.addRectangle(cg[0] - cl/6, cg[1] - cl/2, 0, cl/9, cl/9)\n",
    "square_212 = gmsh.model.occ.addRectangle(cg[0] - 0.5 * cl/9, cg[1] - cl/2, 0, cl/9, cl/9) # this should be repeated\n",
    "square_213 = gmsh.model.occ.addRectangle(cg[0] + 0.5 * cl/9, cg[1] - cl/2, 0, cl/9, cl/9)\n",
    "\n",
    "square_311 = gmsh.model.occ.addRectangle(cg[0] + cl/6, cg[1] - cl/2, 0, cl/9, cl/9)\n",
    "square_312 = gmsh.model.occ.addRectangle(cg[0] + 2.5 * cl/9, cg[1] - cl/2, 0, cl/9, cl/9) # this should be repeated\n",
    "square_313 = gmsh.model.occ.addRectangle(cg[0] + 3.5 * cl/9, cg[1] - cl/2, 0, cl/9, cl/9)\n",
    "\n",
    "square_122 = gmsh.model.occ.addRectangle(cg[0] - 3.5 * cl/9, cg[1] - 3.5 * cl/9, 0, cl/9, cl/9)\n",
    "square_222 = gmsh.model.occ.addRectangle(cg[0] - 0.5 * cl/9, cg[1] - 3.5 * cl/9, 0, cl/9, cl/9)\n",
    "square_322 = gmsh.model.occ.addRectangle(cg[0] + 2.5 * cl/9, cg[1] - 3.5 * cl/9, 0, cl/9, cl/9)\n",
    "squares_n22 = [square_122, square_222, square_322]\n",
    "\n",
    "\n",
    "gmsh.model.occ.synchronize()\n",
    "\n",
    "\n",
    "\n",
    "squares_n22_pts = np.empty((len(squares_n22), 2), dtype=int)\n",
    "for i, square in enumerate(squares_n22):\n",
    "    pt_tags_adj_down = get_square_points(square)\n",
    "    squares_n22_pts[i] = pt_tags_adj_down\n",
    "\n",
    "gmsh.fltk.run()\n",
    "gmsh.finalize()"
   ]
  },
  {
   "cell_type": "code",
   "execution_count": null,
   "metadata": {},
   "outputs": [],
   "source": []
  }
 ],
 "metadata": {
  "kernelspec": {
   "display_name": "testing",
   "language": "python",
   "name": "python3"
  },
  "language_info": {
   "codemirror_mode": {
    "name": "ipython",
    "version": 3
   },
   "file_extension": ".py",
   "mimetype": "text/x-python",
   "name": "python",
   "nbconvert_exporter": "python",
   "pygments_lexer": "ipython3",
   "version": "3.9.7"
  },
  "orig_nbformat": 4
 },
 "nbformat": 4,
 "nbformat_minor": 2
}
