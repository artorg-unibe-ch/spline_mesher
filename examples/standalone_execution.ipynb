{
 "cells": [
  {
   "cell_type": "markdown",
   "metadata": {},
   "source": [
    "### Smooth Structured Hexahedral Meshing\n",
    "#### Standalone execution\n",
    "\n",
    "Created on: 12.05.2024\n",
    "\n",
    "Last update: 12.05.2024\n",
    "\n",
    "Author: Simone Poncioni, ARTORG Center for Biomedical Engineering Research, University of Bern, Bern, Switzerland"
   ]
  },
  {
   "cell_type": "markdown",
   "metadata": {},
   "source": [
    "#### Aims\n",
    "\n",
    "This example shows how to take advantage of the automatisation within ```pyhexspline``` to create smooth structured hexahedral meshes.\n",
    "\n",
    "1. Load and inspect the cortical mask provided by SCANCO\n",
    "2. Define settings and parameters\n",
    "3. Generate the mesh\n",
    "4. Visualize, save, evaluate mesh"
   ]
  },
  {
   "cell_type": "markdown",
   "metadata": {},
   "source": [
    "#### Configuration and imports"
   ]
  },
  {
   "cell_type": "code",
   "execution_count": null,
   "metadata": {},
   "outputs": [],
   "source": [
    "import logging\n",
    "import os\n",
    "\n",
    "import coloredlogs\n",
    "import pyhexspline.futils.hfe_input_transformer as hit\n",
    "from pyhexspline.spline_mesher import HexMesh"
   ]
  },
  {
   "cell_type": "code",
   "execution_count": null,
   "metadata": {},
   "outputs": [],
   "source": [
    "# set up logging\n",
    "LOGGING_NAME = \"MESHING\"\n",
    "# configure the logger\n",
    "logger = logging.getLogger(LOGGING_NAME)\n",
    "logger.setLevel(logging.INFO)\n",
    "handler = logging.StreamHandler()\n",
    "handler.setLevel(logging.INFO)\n",
    "formatter = logging.Formatter(\n",
    "    \"%(asctime)s - %(name)s - %(levelname)s - %(message)s\"\n",
    ")\n",
    "handler.setFormatter(formatter)\n",
    "logger.addHandler(handler)\n",
    "coloredlogs.install(level=logging.INFO, logger=logger)\n"
   ]
  },
  {
   "cell_type": "markdown",
   "metadata": {},
   "source": [
    "#### Define settings dictionary for ```pyhexspline```"
   ]
  },
  {
   "cell_type": "code",
   "execution_count": null,
   "metadata": {},
   "outputs": [],
   "source": [
    "img_settings = {\n",
    "    \"img_basefilename\": \"C0003102\",\n",
    "    \"img_basepath\": f\"{os.getcwd()}/01_AIM\",\n",
    "    \"meshpath\": f\"{os.getcwd()}/03_MESH\",\n",
    "    \"outputpath\": f\"{os.getcwd()}/04_OUTPUT\",\n",
    "}\n",
    "meshing_settings = {\n",
    "    \"aspect\": 100,                          # aspect ratio of the plots\n",
    "    \"_slice\": 1,                            # slice of the image to be plotted\n",
    "    \"undersampling\": 1,                     # undersampling factor of the image\n",
    "    \"slicing_coefficient\": 10,              # using every nth slice of the image for the spline reconstruction\n",
    "    \"inside_val\": int(0),                   # threshold value for the inside of the mask\n",
    "    \"outside_val\": int(1),                  # threshold value for the outside of the mask\n",
    "    \"lower_thresh\": float(0),               # lower threshold for the mask\n",
    "    \"upper_thresh\": float(0.9),             # upper threshold for the mask\n",
    "    \"s\": 10,                                # smoothing factor of the spline\n",
    "    \"k\": 3,                                 # degree of the spline\n",
    "    \"interp_points\": 350,                   # number of points to interpolate the spline\n",
    "    \"thickness_tol\": 5e-1,                  # minimum cortical thickness tolerance: 3 * XCTII voxel size\n",
    "    \"phases\": 2,                            # 1: only external contour, 2: external and internal contour\n",
    "    \"center_square_length_factor\": 0.4,     # size ratio of the refinement square: 0 < l_f < 1\n",
    "    \"mesh_order\": 1,                        # set order of the mesh (1: linear, 2: quadratic)****\n",
    "    \"n_elms_longitudinal\": 5,               # number of elements in the longitudinal direction\n",
    "    \"n_elms_transverse_trab\": 15,           # number of elements in the transverse direction for the trabecular compartment\n",
    "    \"n_elms_transverse_cort\": 3,            # number of elements in the transverse direction for the cortical compartment\n",
    "    \"n_elms_radial\": 15,                    # number of elements in the radial direction # ! Should be 10 if trab_refinement is True\n",
    "    \"ellipsoid_fitting\": True,              # True: perform ellipsoid fitting\n",
    "    \"show_plots\": False,                    # show plots during construction\n",
    "    \"show_gmsh\": False,                      # show gmsh GUI\n",
    "    \"write_mesh\": True,                     # write mesh to file\n",
    "    \"trab_refinement\": False,               # True: refine trabecular mesh at the center\n",
    "    \"mesh_analysis\": True,                  # True: perform mesh analysis (plot JAC det in GMSH GUI)\n",
    "}"
   ]
  },
  {
   "cell_type": "markdown",
   "metadata": {},
   "source": [
    "#### Read .MHD image of the CORTMASK and instantiate the HexMesh class"
   ]
  },
  {
   "cell_type": "code",
   "execution_count": null,
   "metadata": {},
   "outputs": [],
   "source": [
    "\n",
    "sitk_image_s = sitk.ReadImage(\n",
    "    \"/home/simoneponcioni/Documents/01_PHD/03_Methods/HFE/01_DATA/454_L_94_F/C0003118_CORTMASK.mhd\"\n",
    ")\n",
    "\n",
    "# Create the HexMesh object\n",
    "mesh = HexMesh(\n",
    "    meshing_settings,\n",
    "    img_settings,\n",
    "    sitk_image=sitk_image_s,\n",
    "    logger=logging.getLogger(LOGGING_NAME),\n",
    ")"
   ]
  },
  {
   "cell_type": "markdown",
   "metadata": {},
   "source": [
    "#### Perform the meshing"
   ]
  },
  {
   "cell_type": "code",
   "execution_count": null,
   "metadata": {},
   "outputs": [],
   "source": [
    "(\n",
    "    nodes,\n",
    "    elms,\n",
    "    nb_nodes,\n",
    "    centroids_cort,\n",
    "    centroids_trab,\n",
    "    elm_vol_cort,\n",
    "    elm_vol_trab,\n",
    "    radius_roi_cort,\n",
    "    radius_roi_trab,\n",
    "    bnds_bot,\n",
    "    bnds_top,\n",
    "    reference_point_coord,\n",
    ") = mesh.mesher()"
   ]
  },
  {
   "cell_type": "markdown",
   "metadata": {},
   "source": [
    "#### Print meshing information"
   ]
  },
  {
   "cell_type": "code",
   "execution_count": null,
   "metadata": {},
   "outputs": [],
   "source": [
    "_w_text = 60  # width of the text\n",
    "_w_value = 10  # width of the value\n",
    "logger.info(f\"{'Nodes:':<{_w_text}}{len(nodes):>{_w_value}}\")\n",
    "logger.info(f\"{'Elements:':<{_w_text}}{len(elms):>{_w_value}}\")\n",
    "logger.info(f\"{'Bottom boundary nodes:':<{_w_text}}{len(bnds_bot):>{_w_value}}\")\n",
    "logger.info(f\"{'Top boundary nodes:':<{_w_text}}{len(bnds_top):>{_w_value}}\")\n",
    "logger.info(\n",
    "    f\"{'Centroids in trab physical group:':<{_w_text}}{len(centroids_trab):>{_w_value}}\"\n",
    ")\n",
    "logger.info(\n",
    "    f\"{'Centroids in cort physical group:':<{_w_text}}{len(centroids_cort):>{_w_value}}\"\n",
    ")\n",
    "logger.info(f\"'Radius ROI cort: {radius_roi_cort:.3f} (mm)\")\n",
    "logger.info(f\"'Radius ROI trab: {radius_roi_trab:.3f} (mm)\")\n",
    "\n",
    "elm_vol = np.concatenate((elm_vol_cort.flatten(), elm_vol_trab.flatten()))\n",
    "min_volume = min(elm_vol)\n",
    "if min_volume < 0:\n",
    "    logger.critical(f\"Negative volume detected: {min_volume:.3f} (mm^3)\")\n",
    "else:\n",
    "    logger.info(f\"Minimum element volume: {min_volume:.3f} (mm^3)\")\n",
    "\n",
    "print(\"-\" * 150)"
   ]
  }
 ],
 "metadata": {
  "kernelspec": {
   "display_name": "testing",
   "language": "python",
   "name": "python3"
  },
  "language_info": {
   "codemirror_mode": {
    "name": "ipython",
    "version": 3
   },
   "file_extension": ".py",
   "mimetype": "text/x-python",
   "name": "python",
   "nbconvert_exporter": "python",
   "pygments_lexer": "ipython3",
   "version": "3.9.17"
  }
 },
 "nbformat": 4,
 "nbformat_minor": 2
}
