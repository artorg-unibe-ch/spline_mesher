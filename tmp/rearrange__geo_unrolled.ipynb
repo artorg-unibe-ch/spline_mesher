{
 "cells": [
  {
   "cell_type": "code",
   "execution_count": 1,
   "metadata": {},
   "outputs": [],
   "source": [
    "from pathlib import Path\n",
    "import re"
   ]
  },
  {
   "cell_type": "code",
   "execution_count": 2,
   "metadata": {},
   "outputs": [],
   "source": [
    "filename_s = Path(r'/home/simoneponcioni/Documents/01_PHD/03_Methods/Meshing/Meshing/99_testing_prototyping/C0002231_CORT_MASK_cap01_int2.geo_unrolled')\n",
    "# filename_s = Path(r\"/home/simoneponcioni/Documents/01_PHD/03_Methods/Meshing/Meshing/99_testing_prototyping/C0002231_CORT_MASK_cap01_ext2_sort_fullmodel.geo_unrolled\")"
   ]
  },
  {
   "cell_type": "code",
   "execution_count": 3,
   "metadata": {},
   "outputs": [],
   "source": [
    "def sort_lines(filename):\n",
    "    with open(filename) as f:\n",
    "        return f.readlines()\n",
    "\n",
    "file = sort_lines(filename=filename_s)"
   ]
  },
  {
   "cell_type": "code",
   "execution_count": 9,
   "metadata": {},
   "outputs": [
    {
     "name": "stdout",
     "output_type": "stream",
     "text": [
      "['Surface(20001) = {20001};\\n', 'Surface(20002) = {20002};\\n', 'Surface(20003) = {20003};\\n', 'Surface(20004) = {20004};\\n', 'Surface(20005) = {20005};\\n', 'Surface(20006) = {20006};\\n', 'Surface(20007) = {20007};\\n', 'Surface(20008) = {20008};\\n', 'Surface(20009) = {20009};\\n', 'Surface(20010) = {20010};\\n', 'Surface(20011) = {20011};\\n', 'Surface(20012) = {20012};\\n', 'Surface(20013) = {20013};\\n', 'Surface(20014) = {20014};\\n', 'Surface(20015) = {20015};\\n', 'Surface(20016) = {20016};\\n', 'Surface(20017) = {20017};\\n', 'Surface(20018) = {20018};\\n', 'Surface(20019) = {20019};\\n', 'Surface(20020) = {20020};\\n', 'Surface(20021) = {20021};\\n', 'Surface(20022) = {20022};\\n', 'Surface(20023) = {20023};\\n', 'Surface(20024) = {20024};\\n', 'Surface(20025) = {20025};\\n', 'Surface(20026) = {20026};\\n', 'Surface(20027) = {20027};\\n', 'Surface(20028) = {20028};\\n', 'Surface(20029) = {20029};\\n', 'Surface(20030) = {20030};\\n', 'Surface(20031) = {20031};\\n', 'Surface(20032) = {20032};\\n', 'Surface(20033) = {20033};\\n', 'Surface(20034) = {20034};\\n', 'Surface(20035) = {20035};\\n', 'Surface(20036) = {20036};\\n', 'Surface(20037) = {20037};\\n', 'Surface(20038) = {20038};\\n', 'Surface(20039) = {20039};\\n', 'Surface(20040) = {20040};\\n', 'Surface(20041) = {20041};\\n', 'Surface(20042) = {20042};\\n', 'Surface(20043) = {20043};\\n', 'Surface(20044) = {20044};\\n', 'Surface(20045) = {20045};\\n', 'Surface(20046) = {20046};\\n', 'Surface(20047) = {20047};\\n', 'Surface(20048) = {20048};\\n', 'Surface(20049) = {20049};\\n', 'Surface(20050) = {20050};\\n', 'Surface(20051) = {20051};\\n', 'Surface(20052) = {20052};\\n', 'Surface(20053) = {20053};\\n', 'Surface(20054) = {20054};\\n', 'Surface(20055) = {20055};\\n', 'Surface(20056) = {20056};\\n', 'Surface(20057) = {20057};\\n', 'Surface(20058) = {20058};\\n', 'Surface(20059) = {20059};\\n', 'Surface(20060) = {20060};\\n', 'Surface(20061) = {20061};\\n', 'Surface(20062) = {20062};\\n', 'Surface(20063) = {20063};\\n', 'Surface(20064) = {20064};\\n', 'Surface(20065) = {20065};\\n', 'Surface(20066) = {20066};\\n', 'Surface(20067) = {20067};\\n', 'Surface(20068) = {20068};\\n', 'Surface(20069) = {20069};\\n', 'Surface(20070) = {20070};\\n', 'Surface(20071) = {20071};\\n', 'Surface(20072) = {20072};\\n', 'Surface(20073) = {20073};\\n', 'Surface(20074) = {20074};\\n', 'Surface(20075) = {20075};\\n', 'Surface(20076) = {20076};\\n', 'Surface(20077) = {20077};\\n', 'Surface(20078) = {20078};\\n', 'Surface(20079) = {20079};\\n', 'Surface(20080) = {20080};\\n', 'Surface(20081) = {20081};\\n', 'Surface(20082) = {20082};\\n', 'Surface(20083) = {20083};\\n', 'Surface(20084) = {20084};\\n', 'Surface(20085) = {20085};\\n', 'Surface(20086) = {20086};\\n', 'Surface(20087) = {20087};\\n', 'Surface(20088) = {20088};\\n', 'Surface(20089) = {20089};\\n', 'Surface(20090) = {20090};\\n', 'Surface(20091) = {20091};\\n', 'Surface(20092) = {20092};\\n', 'Surface(20093) = {20093};\\n', 'Surface(20094) = {20094};\\n', 'Surface(20095) = {20095};\\n', 'Surface(20096) = {20096};\\n', 'Surface(20097) = {20097};\\n', 'Surface(20098) = {20098};\\n', 'Surface(20099) = {20099};\\n', 'Surface(20100) = {20100};\\n', 'Surface(20101) = {20101};\\n', 'Surface(20102) = {20102};\\n', 'Surface(20103) = {20103};\\n', 'Surface(20104) = {20104};\\n', 'Surface(20105) = {20105};\\n', 'Surface(20106) = {20106};\\n', 'Surface(20107) = {20107};\\n', 'Surface(20108) = {20108};\\n', 'Surface(20109) = {20109};\\n', 'Surface(20110) = {20110};\\n', 'Surface(20111) = {20111};\\n', 'Surface(20112) = {20112};\\n', 'Surface(20113) = {20113};\\n', 'Surface(20114) = {20114};\\n', 'Surface(20115) = {20115};\\n', 'Surface(20116) = {20116};\\n', 'Surface(20117) = {20117};\\n', 'Surface(20118) = {20118};\\n', 'Surface(20119) = {20119};\\n', 'Surface(20120) = {20120};\\n', 'Surface(20121) = {20121};\\n', 'Surface(20122) = {20122};\\n', 'Surface(20123) = {20123};\\n', 'Surface(20124) = {20124};\\n', 'Surface(20125) = {20125};\\n', 'Surface(20126) = {20126};\\n', 'Surface(20127) = {20127};\\n', 'Surface(20128) = {20128};\\n', 'Surface(20129) = {20129};\\n', 'Surface(20130) = {20130};\\n', 'Surface(20131) = {20131};\\n', 'Surface(20132) = {20132};\\n', 'Surface(20133) = {20133};\\n', 'Surface(20134) = {20134};\\n', 'Surface(20135) = {20135};\\n', 'Surface(20136) = {20136};\\n', 'Surface(20137) = {20137};\\n', 'Surface(20138) = {20138};\\n', 'Surface(20139) = {20139};\\n', 'Surface(20140) = {20140};\\n', 'Surface(20141) = {20141};\\n', 'Surface(20142) = {20142};\\n', 'Surface(20143) = {20143};\\n', 'Surface(20144) = {20144};\\n', 'Surface(20145) = {20145};\\n', 'Surface(20146) = {20146};\\n', 'Surface(20147) = {20147};\\n', 'Surface(20148) = {20148};\\n', 'Surface(20149) = {20149};\\n', 'Surface(20150) = {20150};\\n', 'Surface(20151) = {20151};\\n', 'Surface(20152) = {20152};\\n', 'Surface(20153) = {20153};\\n', 'Surface(20154) = {20154};\\n', 'Surface(20155) = {20155};\\n', 'Surface(20156) = {20156};\\n', 'Surface(20157) = {20157};\\n', 'Surface(20158) = {20158};\\n', 'Surface(20159) = {20159};\\n', 'Surface(20160) = {20160};\\n', 'Surface(20161) = {20161};\\n', 'Surface(20162) = {20162};\\n', 'Surface(20163) = {20163};\\n', 'Surface(20164) = {20164};\\n', 'Surface(20165) = {20165};\\n', 'Surface(20166) = {20166};\\n', 'Surface(20167) = {20167};\\n', 'Surface(20168) = {20168};\\n', 'Surface(20169) = {20169};\\n', 'Surface(20170) = {20170};\\n', 'Surface(20171) = {20171};\\n', 'Surface(20172) = {20172};\\n', 'Surface(20173) = {20173};\\n', 'Surface(20174) = {20174};\\n', 'Surface(20175) = {20175};\\n', 'Surface(20176) = {20176};\\n', 'Surface(20177) = {20177};\\n', 'Surface(20178) = {20178};\\n', 'Surface(20179) = {20179};\\n', 'Surface(20180) = {20180};\\n', 'Surface(20181) = {20181};\\n', 'Surface(20182) = {20182};\\n', 'Surface(20183) = {20183};\\n', 'Surface(20184) = {20184};\\n', 'Surface(20185) = {20185};\\n', 'Surface(20186) = {20186};\\n', 'Surface(20187) = {20187};\\n', 'Surface(20188) = {20188};\\n', 'Surface(20189) = {20189};\\n', 'Surface(20190) = {20190};\\n', 'Surface(20191) = {20191};\\n', 'Surface(20192) = {20192};\\n', 'Surface(20193) = {20193};\\n', 'Surface(20194) = {20194};\\n', 'Surface(20195) = {20195};\\n', 'Surface(20196) = {20196};\\n', 'Surface(20197) = {20197};\\n', 'Surface(20198) = {20198};\\n', 'Surface(20199) = {20199};\\n', 'Surface(20200) = {20200};\\n', 'Surface(20201) = {20201};\\n', 'Surface(20202) = {20202};\\n', 'Surface(20203) = {20203};\\n', 'Surface(20204) = {20204};\\n', 'Surface(20205) = {20205};\\n', 'Surface(20206) = {20206};\\n', 'Surface(20207) = {20207};\\n', 'Surface(20208) = {20208};\\n', 'Surface(20209) = {20209};\\n', 'Surface(20210) = {20210};\\n', 'Surface(20211) = {20211};\\n', 'Surface(20212) = {20212};\\n', 'Surface(20213) = {20213};\\n', 'Surface(20214) = {20214};\\n', 'Surface(20215) = {20215};\\n', 'Surface(20216) = {20216};\\n', 'Surface(20217) = {20217};\\n', 'Surface(20218) = {20218};\\n', 'Surface(20219) = {20219};\\n', 'Surface(20220) = {20220};\\n', 'Surface(20221) = {20221};\\n', 'Surface(20222) = {20222};\\n', 'Surface(20223) = {20223};\\n', 'Surface(20224) = {20224};\\n', 'Surface(20225) = {20225};\\n', 'Surface(20226) = {20226};\\n', 'Surface(20227) = {20227};\\n', 'Surface(20228) = {20228};\\n', 'Surface(20229) = {20229};\\n', 'Surface(20230) = {20230};\\n', 'Surface(20231) = {20231};\\n', 'Surface(20232) = {20232};\\n', 'Surface(20233) = {20233};\\n', 'Surface(20234) = {20234};\\n', 'Surface(20235) = {20235};\\n', 'Surface(20236) = {20236};\\n', 'Surface(20237) = {20237};\\n', 'Surface(20238) = {20238};\\n', 'Surface(20239) = {20239};\\n', 'Surface(20240) = {20240};\\n', 'Surface(20241) = {20241};\\n', 'Surface(20242) = {20242};\\n', 'Surface(20243) = {20243};\\n', 'Surface(20244) = {20244};\\n', 'Surface(20245) = {20245};\\n', 'Surface(20246) = {20246};\\n', 'Surface(20247) = {20247};\\n', 'Surface(20248) = {20248};\\n', 'Surface(20249) = {20249};\\n', 'Surface(20250) = {20250};\\n', 'Surface(20251) = {20251};\\n', 'Surface(20252) = {20252};\\n', 'Surface(20253) = {20253};\\n', 'Surface(20254) = {20254};\\n', 'Surface(20255) = {20255};\\n', 'Surface(20256) = {20256};\\n', 'Surface(20257) = {20257};\\n', 'Surface(20258) = {20258};\\n', 'Surface(20259) = {20259};\\n', 'Surface(20260) = {20260};\\n', 'Surface(20261) = {20261};\\n', 'Surface(20262) = {20262};\\n', 'Surface(20263) = {20263};\\n', 'Surface(20264) = {20264};\\n', 'Surface(20265) = {20265};\\n', 'Surface(20266) = {20266};\\n', 'Surface(20267) = {20267};\\n', 'Surface(20268) = {20268};\\n', 'Surface(20269) = {20269};\\n', 'Surface(20270) = {20270};\\n', 'Surface(20271) = {20271};\\n', 'Surface(20272) = {20272};\\n', 'Surface(20273) = {20273};\\n', 'Surface(20274) = {20274};\\n', 'Surface(20275) = {20275};\\n', 'Surface(20276) = {20276};\\n', 'Surface(20277) = {20277};\\n', 'Surface(20278) = {20278};\\n', 'Surface(20279) = {20279};\\n', 'Surface(20280) = {20280};\\n', 'Surface(20281) = {20281};\\n', 'Surface(20282) = {20282};\\n', 'Surface(20283) = {20283};\\n', 'Surface(20284) = {20284};\\n', 'Surface(20285) = {20285};\\n', 'Surface(20286) = {20286};\\n', 'Surface(20287) = {20287};\\n', 'Surface(20288) = {20288};\\n', 'Surface(20289) = {20289};\\n', 'Surface(20290) = {20290};\\n', 'Surface(20291) = {20291};\\n', 'Surface(20292) = {20292};\\n', 'Surface(20293) = {20293};\\n', 'Surface(20294) = {20294};\\n', 'Surface(20295) = {20295};\\n', 'Surface(20296) = {20296};\\n', 'Surface(20297) = {20297};\\n', 'Surface(20298) = {20298};\\n', 'Surface(20299) = {20299};\\n', 'Surface(20300) = {20300};\\n', 'Surface(20301) = {20301};\\n', 'Surface(20302) = {20302};\\n', 'Surface(20303) = {20303};\\n', 'Surface(20304) = {20304};\\n', 'Surface(20305) = {20305};\\n', 'Surface(20306) = {20306};\\n', 'Surface(20307) = {20307};\\n', 'Surface(20308) = {20308};\\n', 'Surface(20309) = {20309};\\n', 'Surface(20310) = {20310};\\n', 'Surface(20311) = {20311};\\n', 'Surface(20312) = {20312};\\n', 'Surface(20313) = {20313};\\n', 'Surface(20314) = {20314};\\n', 'Surface(20315) = {20315};\\n', 'Surface(20316) = {20316};\\n', 'Surface(20317) = {20317};\\n', 'Surface(20318) = {20318};\\n', 'Surface(20319) = {20319};\\n', 'Surface(20320) = {20320};\\n', 'Surface(20321) = {20321};\\n', 'Surface(20322) = {20322};\\n', 'Surface(20323) = {20323};\\n', 'Surface(20324) = {20324};\\n', 'Surface(20325) = {20325};\\n', 'Surface(20326) = {20326};\\n', 'Surface(20327) = {20327};\\n', 'Surface(20328) = {20328};\\n', 'Surface(20329) = {20329};\\n', 'Surface(20330) = {20330};\\n', 'Surface(20331) = {20331};\\n', 'Surface(20332) = {20332};\\n', 'Surface(20333) = {20333};\\n', 'Surface(20334) = {20334};\\n', 'Surface(20335) = {20335};\\n', 'Surface(20336) = {20336};\\n', 'Surface(20337) = {20337};\\n', 'Surface(20338) = {20338};\\n', 'Surface(20339) = {20339};\\n', 'Surface(20340) = {20340};\\n', 'Surface(20341) = {20341};\\n', 'Surface(20342) = {20342};\\n', 'Surface(20343) = {20343};\\n', 'Surface(20344) = {20344};\\n', 'Surface(20345) = {20345};\\n', 'Surface(20346) = {20346};\\n', 'Surface(20347) = {20347};\\n', 'Surface(20348) = {20348};\\n', 'Surface(20349) = {20349};\\n', 'Surface(20350) = {20350};\\n', 'Surface(20351) = {20351};\\n', 'Surface(20352) = {20352};\\n', 'Surface(20353) = {20353};\\n', 'Surface(20354) = {20354};\\n', 'Surface(20355) = {20355};\\n', 'Surface(20356) = {20356};\\n', 'Surface(20357) = {20357};\\n', 'Surface(20358) = {20358};\\n', 'Surface(20359) = {20359};\\n', 'Surface(20360) = {20360};\\n', 'Surface(20361) = {20361};\\n', 'Surface(20362) = {20362};\\n', 'Surface(20363) = {20363};\\n', 'Surface(20364) = {20364};\\n', 'Surface(20365) = {20365};\\n', 'Surface(20366) = {20366};\\n', 'Surface(20367) = {20367};\\n', 'Surface(20368) = {20368};\\n', 'Surface(20369) = {20369};\\n', 'Surface(20370) = {20370};\\n', 'Surface(20371) = {20371};\\n', 'Surface(20372) = {20372};\\n', 'Surface(20373) = {20373};\\n', 'Surface(20374) = {20374};\\n', 'Surface(20375) = {20375};\\n', 'Surface(20376) = {20376};\\n', 'Surface(20377) = {20377};\\n', 'Surface(20378) = {20378};\\n', 'Surface(20379) = {20379};\\n', 'Surface(20380) = {20380};\\n', 'Surface(20381) = {20381};\\n', 'Surface(20382) = {20382};\\n', 'Surface(20383) = {20383};\\n', 'Surface(20384) = {20384};\\n', 'Surface(20385) = {20385};\\n', 'Surface(20386) = {20386};\\n', 'Surface(20387) = {20387};\\n', 'Surface(20388) = {20388};\\n', 'Surface(20389) = {20389};\\n', 'Surface(20390) = {20390};\\n', 'Surface(20391) = {20391};\\n', 'Surface(20392) = {20392};\\n', 'Surface(20393) = {20393};\\n', 'Surface(20394) = {20394};\\n', 'Surface(20395) = {20395};\\n', 'Surface(20396) = {20396};\\n', 'Surface(20397) = {20397};\\n', 'Surface(20398) = {20398};\\n', 'Surface(20399) = {20399};\\n', 'Surface(20400) = {20400};\\n', 'Surface(20401) = {20401};\\n', 'Surface(20402) = {20402};\\n', 'Surface(20403) = {20403};\\n', 'Surface(20404) = {20404};\\n', 'Surface(20405) = {20405};\\n', 'Surface(20406) = {20406};\\n', 'Surface(20407) = {20407};\\n', 'Surface(20408) = {20408};\\n', 'Surface(20409) = {20409};\\n', 'Surface(20410) = {20410};\\n', 'Surface(20411) = {20411};\\n', 'Surface(20412) = {20412};\\n', 'Surface(20413) = {20413};\\n', 'Surface(20414) = {20414};\\n', 'Surface(20415) = {20415};\\n', 'Surface(20416) = {20416};\\n', 'Surface(20417) = {20417};\\n', 'Surface(20418) = {20418};\\n', 'Surface(20419) = {20419};\\n', 'Surface(20420) = {20420};\\n', 'Surface(20421) = {20421};\\n', 'Surface(20422) = {20422};\\n', 'Surface(20423) = {20423};\\n', 'Surface(20424) = {20424};\\n', 'Surface(20425) = {20425};\\n', 'Surface(20426) = {20426};\\n', 'Surface(20427) = {20427};\\n', 'Surface(20428) = {20428};\\n', 'Surface(20429) = {20429};\\n', 'Surface(20430) = {20430};\\n', 'Surface(20431) = {20431};\\n', 'Surface(20432) = {20432};\\n', 'Surface(20433) = {20433};\\n', 'Surface(20434) = {20434};\\n', 'Surface(20435) = {20435};\\n', 'Surface(20436) = {20436};\\n', 'Surface(20437) = {20437};\\n', 'Surface(20438) = {20438};\\n', 'Surface(20439) = {20439};\\n', 'Surface(20440) = {20440};\\n', 'Surface(20441) = {20441};\\n', 'Surface(20442) = {20442};\\n', 'Surface(20443) = {20443};\\n', 'Surface(20444) = {20444};\\n', 'Surface(20445) = {20445};\\n', 'Surface(20446) = {20446};\\n', 'Surface(20447) = {20447};\\n', 'Surface(20448) = {20448};\\n', 'Surface(20449) = {20449};\\n', 'Surface(20450) = {20450};\\n', 'Surface(20451) = {20451};\\n', 'Surface(20452) = {20452};\\n', 'Surface(20453) = {20453};\\n', 'Surface(20454) = {20454};\\n', 'Surface(20455) = {20455};\\n', 'Surface(20456) = {20456};\\n', 'Surface(20457) = {20457};\\n', 'Surface(20458) = {20458};\\n', 'Surface(20459) = {20459};\\n', 'Surface(20460) = {20460};\\n', 'Surface(20461) = {20461};\\n', 'Surface(20462) = {20462};\\n', 'Surface(20463) = {20463};\\n', 'Surface(20464) = {20464};\\n', 'Surface(20465) = {20465};\\n', 'Surface(20466) = {20466};\\n', 'Surface(20467) = {20467};\\n', 'Surface(20468) = {20468};\\n', 'Surface(20469) = {20469};\\n', 'Surface(20470) = {20470};\\n', 'Surface(20471) = {20471};\\n', 'Surface(20472) = {20472};\\n', 'Surface(20473) = {20473};\\n', 'Surface(20474) = {20474};\\n', 'Surface(20475) = {20475};\\n', 'Surface(20476) = {20476};\\n', 'Surface(20477) = {20477};\\n', 'Surface(20478) = {20478};\\n', 'Surface(20479) = {20479};\\n', 'Surface(20480) = {20480};\\n', 'Surface(20481) = {20481};\\n', 'Surface(20482) = {20482};\\n', 'Surface(20483) = {20483};\\n', 'Surface(20484) = {20484};\\n', 'Surface(20485) = {20485};\\n', 'Surface(20486) = {20486};\\n', 'Surface(20487) = {20487};\\n', 'Surface(20488) = {20488};\\n', 'Surface(20489) = {20489};\\n', 'Surface(20490) = {20490};\\n', 'Surface(20491) = {20491};\\n', 'Surface(20492) = {20492};\\n', 'Surface(20493) = {20493};\\n', 'Surface(20494) = {20494};\\n', 'Surface(20495) = {20495};\\n', 'Surface(20496) = {20496};\\n', 'Surface(20497) = {20497};\\n', 'Surface(20498) = {20498};\\n', 'Surface(20499) = {20499};\\n', 'Surface(20500) = {20500};\\n', 'Surface(20501) = {20501};\\n', 'Surface(20502) = {20502};\\n', 'Surface(20503) = {20503};\\n', 'Surface(20504) = {20504};\\n', 'Surface(20505) = {20505};\\n', 'Surface(20506) = {20506};\\n', 'Surface(20507) = {20507};\\n', 'Surface(20508) = {20508};\\n', 'Surface(20509) = {20509};\\n', 'Surface(20510) = {20510};\\n', 'Surface(20511) = {20511};\\n', 'Surface(20512) = {20512};\\n', 'Surface(20513) = {20513};\\n', 'Surface(20514) = {20514};\\n', 'Surface(20515) = {20515};\\n', 'Surface(20516) = {20516};\\n', 'Surface(20517) = {20517};\\n', 'Surface(20518) = {20518};\\n', 'Surface(20519) = {20519};\\n', 'Surface(20520) = {20520};\\n', 'Surface(20521) = {20521};\\n', 'Surface(20522) = {20522};\\n', 'Surface(20523) = {20523};\\n', 'Surface(20524) = {20524};\\n', 'Surface(20525) = {20525};\\n', 'Surface(20526) = {20526};\\n', 'Surface(20527) = {20527};\\n', 'Surface(20528) = {20528};\\n', 'Surface(20529) = {20529};\\n', 'Surface(20530) = {20530};\\n', 'Surface(20531) = {20531};\\n', 'Surface(20532) = {20532};\\n', 'Surface(20533) = {20533};\\n', 'Surface(20534) = {20534};\\n', 'Surface(20535) = {20535};\\n', 'Surface(20536) = {20536};\\n', 'Surface(20537) = {20537};\\n', 'Surface(20538) = {20538};\\n', 'Surface(20539) = {20539};\\n', 'Surface(20540) = {20540};\\n', 'Surface(20541) = {20541};\\n', 'Surface(20542) = {20542};\\n', 'Surface(20543) = {20543};\\n', 'Surface(20544) = {20544};\\n', 'Surface(20545) = {20545};\\n', 'Surface(20546) = {20546};\\n', 'Surface(20547) = {20547};\\n', 'Surface(20548) = {20548};\\n', 'Surface(20549) = {20549};\\n', 'Surface(20550) = {20550};\\n', 'Surface(20551) = {20551};\\n', 'Surface(20552) = {20552};\\n', 'Surface(20553) = {20553};\\n', 'Surface(20554) = {20554};\\n', 'Surface(20555) = {20555};\\n', 'Surface(20556) = {20556};\\n', 'Surface(20557) = {20557};\\n', 'Surface(20558) = {20558};\\n', 'Surface(20559) = {20559};\\n', 'Surface(20560) = {20560};\\n', 'Surface(20561) = {20561};\\n', 'Surface(20562) = {20562};\\n', 'Surface(20563) = {20563};\\n', 'Surface(20564) = {20564};\\n', 'Surface(20565) = {20565};\\n', 'Surface(20566) = {20566};\\n', 'Surface(20567) = {20567};\\n', 'Surface(20568) = {20568};\\n', 'Surface(20569) = {20569};\\n', 'Surface(20570) = {20570};\\n', 'Surface(20571) = {20571};\\n', 'Surface(20572) = {20572};\\n', 'Surface(20573) = {20573};\\n', 'Surface(20574) = {20574};\\n', 'Surface(20575) = {20575};\\n', 'Surface(20576) = {20576};\\n', 'Surface(20577) = {20577};\\n', 'Surface(20578) = {20578};\\n', 'Surface(20579) = {20579};\\n', 'Surface(20580) = {20580};\\n', 'Surface(20581) = {20581};\\n', 'Surface(20582) = {20582};\\n', 'Surface(20583) = {20583};\\n', 'Surface(20584) = {20584};\\n', 'Surface(20585) = {20585};\\n', 'Surface(20586) = {20586};\\n', 'Surface(20587) = {20587};\\n', 'Surface(20588) = {20588};\\n', 'Surface(20589) = {20589};\\n', 'Surface(20590) = {20590};\\n', 'Surface(20591) = {20591};\\n', 'Surface(20592) = {20592};\\n', 'Surface(20593) = {20593};\\n', 'Surface(20594) = {20594};\\n']\n"
     ]
    }
   ],
   "source": [
    "cl__s = [line for line in file if 'cl__' in line.split('(')[0]]\n",
    "points = [line for line in file if 'Point' in line]\n",
    "lines = [line for line in file if 'Line' in line]\n",
    "CurveLoops = [line for line in file if re.search(r'\\bCurve Loop\\b', line)]\n",
    "Surfaces = [line for line in file if re.search(r'^Surface\\(', line)]\n",
    "PlaneSurfaces = [line for line in file if re.search(r'\\bPlane Surface\\b', line)]\n",
    "SurfaceLoops = [line for line in file if re.search(r'\\bSurface Loop\\b', line)]\n",
    "Volumes = [line for line in file if 'Volume' in line]\n",
    "# bool_gmsh = [f'BooleanDifference{{ Volume{{{Volumes[0].split(\"(\")[1].split(\")\")[0]}}}; Delete;}}{{ Volume{{{Volumes[1].split(\"(\")[1].split(\")\")[0]}}}; Delete;}}']\n",
    "\n",
    "rearranged_lst = ['SetFactory(\"OpenCASCADE\");\\n', cl__s, lines, CurveLoops, Surfaces, PlaneSurfaces, SurfaceLoops, Volumes] #, bool_gmsh]\n",
    "\n",
    "print(Surfaces)"
   ]
  },
  {
   "cell_type": "code",
   "execution_count": 25,
   "metadata": {},
   "outputs": [],
   "source": [
    "with open(\"/home/simoneponcioni/Documents/01_PHD/03_Methods/Meshing/Meshing/99_testing_prototyping/C0002231_CORT_MASK_cap01_int2_sort.geo_unrolled\", \"w\") as outfile:\n",
    "    for entity in rearranged_lst:\n",
    "        for elem in entity:\n",
    "            outfile.write(elem)"
   ]
  },
  {
   "cell_type": "code",
   "execution_count": null,
   "metadata": {},
   "outputs": [],
   "source": []
  }
 ],
 "metadata": {
  "kernelspec": {
   "display_name": "Python 3.9.7 ('testing')",
   "language": "python",
   "name": "python3"
  },
  "language_info": {
   "codemirror_mode": {
    "name": "ipython",
    "version": 3
   },
   "file_extension": ".py",
   "mimetype": "text/x-python",
   "name": "python",
   "nbconvert_exporter": "python",
   "pygments_lexer": "ipython3",
   "version": "3.9.7"
  },
  "orig_nbformat": 4,
  "vscode": {
   "interpreter": {
    "hash": "e58a9742f16ddbf8ecfb0540e95b335c2058f4c3941a5c01c45b4e70f483df6f"
   }
  }
 },
 "nbformat": 4,
 "nbformat_minor": 2
}
