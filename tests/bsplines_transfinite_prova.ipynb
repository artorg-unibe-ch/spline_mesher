{
 "cells": [
  {
   "cell_type": "code",
   "execution_count": 1,
   "metadata": {},
   "outputs": [],
   "source": [
    "import numpy as np\n",
    "import gmsh\n",
    "factory = gmsh.model.occ\n",
    "model = gmsh.model"
   ]
  },
  {
   "cell_type": "code",
   "execution_count": 2,
   "metadata": {},
   "outputs": [],
   "source": [
    "surf_int_path = r'/home/simoneponcioni/Documents/01_PHD/03_Methods/Meshing/Meshing/99_testing_prototyping/testing_transfinite_2D/C0002233_int_CORT_int_11_point_insertion.npy'\n",
    "surf_ext_path = r'/home/simoneponcioni/Documents/01_PHD/03_Methods/Meshing/Meshing/99_testing_prototyping/testing_transfinite_2D/C0002233_int_CORT_ext_11_point_insertion.npy'\n",
    "\n",
    "surf_int = np.load(surf_int_path)\n",
    "surf_ext = np.load(surf_ext_path)"
   ]
  },
  {
   "cell_type": "code",
   "execution_count": 4,
   "metadata": {},
   "outputs": [
    {
     "name": "stdout",
     "output_type": "stream",
     "text": [
      "Info    : Writing '/home/simoneponcioni/Documents/01_PHD/03_Methods/Meshing/Meshing/99_testing_prototyping/testing_transfinite_2D/surf_11_point_insertion.geo_unrolled'...\n",
      "Info    : Done writing '/home/simoneponcioni/Documents/01_PHD/03_Methods/Meshing/Meshing/99_testing_prototyping/testing_transfinite_2D/surf_11_point_insertion.geo_unrolled'\n"
     ]
    }
   ],
   "source": [
    "gmsh.initialize()\n",
    "\n",
    "def offset_tags(entities):\n",
    "    \"\"\"\n",
    "    get all entities of the model and add offset to make unique tags\n",
    "    \"\"\"\n",
    "    for tag in entities:\n",
    "        newTag_s = (tag[0], tag[1] + 1000)\n",
    "        gmsh.model.setTag(dim=tag[0], tag=tag[1], newTag=newTag_s[1])\n",
    "    return None\n",
    "\n",
    "def surfaces_gmsh(x1, y1, z1, x2, y2 ,z2):\n",
    "        \"\"\"\n",
    "        https://gitlab.onelab.info/gmsh/gmsh/-/issues/456\n",
    "        https://bbanerjee.github.io/ParSim/fem/meshing/gmsh/quadrlateral-meshing-with-gmsh/\n",
    "        \"\"\"\n",
    "        gmsh.option.setNumber(\"General.Terminal\", 1)\n",
    "\n",
    "        points1 = []\n",
    "        for i in range(0, len(x1)):\n",
    "            point1 = factory.addPoint(x1[i], y1[i], z1)\n",
    "            points1 = np.append(points1, point1)\n",
    "        points1 = np.append(points1, points1[0])\n",
    "        #B1 = factory.addBSpline(range(1, len(points1)), degree=3)\n",
    "        #C1 = factory.addCurveLoop([B1])\n",
    "        \n",
    "        points2 = []\n",
    "        for i in range(0, len(x2)):\n",
    "            point2 = factory.addPoint(x2[i], y2[i], z2)\n",
    "            points2 = np.append(points2, point2)\n",
    "        points2 = np.append(points2, points2[0])\n",
    "        #B2 = factory.addBSpline(range(len(points1) + 1, len(points1) + len(points2)), degree=3)\n",
    "        #C2 = factory.addCurveLoop([B2])\n",
    "\n",
    "def finalize():\n",
    "    factory.synchronize()\n",
    "    offset_tags(factory.getEntities())\n",
    "    gmsh.write('/home/simoneponcioni/Documents/01_PHD/03_Methods/Meshing/Meshing/99_testing_prototyping/testing_transfinite_2D/surf_11_point_insertion.geo_unrolled')\n",
    "    gmsh.finalize()\n",
    "\n",
    "surfaces_gmsh(surf_ext[:, 0], surf_ext[:, 1], 0, surf_int[:, 0], surf_int[:, 1], 0)\n",
    "finalize()"
   ]
  },
  {
   "cell_type": "code",
   "execution_count": null,
   "metadata": {},
   "outputs": [],
   "source": []
  }
 ],
 "metadata": {
  "kernelspec": {
   "display_name": "Python 3.9.7 ('testing')",
   "language": "python",
   "name": "python3"
  },
  "language_info": {
   "codemirror_mode": {
    "name": "ipython",
    "version": 3
   },
   "file_extension": ".py",
   "mimetype": "text/x-python",
   "name": "python",
   "nbconvert_exporter": "python",
   "pygments_lexer": "ipython3",
   "version": "3.9.7"
  },
  "orig_nbformat": 4,
  "vscode": {
   "interpreter": {
    "hash": "e58a9742f16ddbf8ecfb0540e95b335c2058f4c3941a5c01c45b4e70f483df6f"
   }
  }
 },
 "nbformat": 4,
 "nbformat_minor": 2
}
